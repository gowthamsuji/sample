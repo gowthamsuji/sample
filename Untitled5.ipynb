{
  "nbformat": 4,
  "nbformat_minor": 0,
  "metadata": {
    "colab": {
      "provenance": [],
      "authorship_tag": "ABX9TyOHcEHnsGpmRGX/kbUfS3t5",
      "include_colab_link": true
    },
    "kernelspec": {
      "name": "python3",
      "display_name": "Python 3"
    },
    "language_info": {
      "name": "python"
    }
  },
  "cells": [
    {
      "cell_type": "markdown",
      "metadata": {
        "id": "view-in-github",
        "colab_type": "text"
      },
      "source": [
        "<a href=\"https://colab.research.google.com/github/gowthamsuji/sample/blob/main/Untitled5.ipynb\" target=\"_parent\"><img src=\"https://colab.research.google.com/assets/colab-badge.svg\" alt=\"Open In Colab\"/></a>"
      ]
    },
    {
      "cell_type": "code",
      "execution_count": 7,
      "metadata": {
        "colab": {
          "base_uri": "https://localhost:8080/"
        },
        "id": "H01w3ApSRQin",
        "outputId": "e03abef3-da7e-47c7-dfb6-6b0e0b391755"
      },
      "outputs": [
        {
          "output_type": "stream",
          "name": "stdout",
          "text": [
            "Weather in salem: scattered clouds\n",
            "Temperature: 24.75°C\n"
          ]
        }
      ],
      "source": [
        "# Install necessary libraries\n",
        "import requests\n",
        "\n",
        "# Define a function to understand API usage\n",
        "def get_weather(city):\n",
        "    \"\"\"\n",
        "    Function to fetch weather information for a given city using OpenWeatherMap API.\n",
        "    \"\"\"\n",
        "    # OpenWeatherMap API endpoint and key (replace 'your_api_key' with an actual API key)\n",
        "    api_key = \"18bfbb4120cbe8f9dbdb99604fb48b21\"\n",
        "    base_url = \"http://api.openweathermap.org/data/2.5/weather\"\n",
        "\n",
        "    # Construct the complete API URL\n",
        "    params = {\n",
        "        'q': city,\n",
        "        'appid': api_key,\n",
        "        'units': 'metric'  # Use 'metric' for Celsius\n",
        "    }\n",
        "\n",
        "    # Make the API request\n",
        "    response = requests.get(base_url, params=params)\n",
        "\n",
        "    if response.status_code == 200:\n",
        "        # Parse the JSON response\n",
        "        data = response.json()\n",
        "        weather = data['weather'][0]['description']\n",
        "        temperature = data['main']['temp']\n",
        "\n",
        "        # Print the weather information\n",
        "        print(f\"Weather in {city}: {weather}\")\n",
        "        print(f\"Temperature: {temperature}°C\")\n",
        "    else:\n",
        "        print(f\"Failed to get weather data. HTTP Status code: {response.status_code}\")\n",
        "\n",
        "# Example usage\n",
        "city_name = \"salem\"\n",
        "get_weather(city_name)\n"
      ]
    }
  ]
}